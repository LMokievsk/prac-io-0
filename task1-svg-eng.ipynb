{
 "cells": [
  {
   "cell_type": "code",
   "execution_count": 1,
   "id": "998faaa1-b34d-48d3-b71a-fd048ef4f930",
   "metadata": {},
   "outputs": [],
   "source": [
    "import plotly.io as pio\n",
    "import numpy as np\n",
    "from functions import nash_equilibrium, visualize\n",
    "\n",
    "pio.renderers.default='svg'"
   ]
  },
  {
   "cell_type": "markdown",
   "id": "4d345e6b-1cd5-4109-86db-9022f900b073",
   "metadata": {},
   "source": [
    "### Cпектр оптимальной стратегии состоит из одной точки:"
   ]
  },
  {
   "cell_type": "code",
   "execution_count": null,
   "id": "47b18036-312a-4823-bca8-5e2968b0610d",
   "metadata": {},
   "outputs": [],
   "source": [
    "matrix = np.array([[33, 9, 55],[-1, 3, 3],[2, 2, -7]])\n",
    "visualize(nash_equilibrium(matrix))"
   ]
  },
  {
   "cell_type": "markdown",
   "id": "4860d0b4-8685-4f29-b084-82e8c122e70a",
   "metadata": {},
   "source": [
    "### Cпектр оптимальной стратегии неполон:"
   ]
  },
  {
   "cell_type": "markdown",
   "id": "222ff881-0c21-4926-a0f1-b14224f6a416",
   "metadata": {},
   "source": [
    "### Cпектр оптимальной стратегии полон:"
   ]
  },
  {
   "cell_type": "code",
   "execution_count": null,
   "id": "513835de-6254-4b64-9445-3491b846d5ed",
   "metadata": {},
   "outputs": [],
   "source": [
    "matrix = np.array([[5, -7, 32], [23, 0, 9], [9, 35, -8]])\n",
    "visualize(nash_equilibrium(matrix))"
   ]
  }
 ],
 "metadata": {
  "kernelspec": {
   "display_name": "Python 3 (ipykernel)",
   "language": "python",
   "name": "python3"
  },
  "language_info": {
   "codemirror_mode": {
    "name": "ipython",
    "version": 3
   },
   "file_extension": ".py",
   "mimetype": "text/x-python",
   "name": "python",
   "nbconvert_exporter": "python",
   "pygments_lexer": "ipython3",
   "version": "3.10.10"
  }
 },
 "nbformat": 4,
 "nbformat_minor": 5
}
